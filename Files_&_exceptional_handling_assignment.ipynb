{
  "nbformat": 4,
  "nbformat_minor": 0,
  "metadata": {
    "colab": {
      "provenance": []
    },
    "kernelspec": {
      "name": "python3",
      "display_name": "Python 3"
    },
    "language_info": {
      "name": "python"
    }
  },
  "cells": [
    {
      "cell_type": "markdown",
      "source": [
        "#THEORY QUESTIONS\n",
        "\n",
        "#Files & Exceptional Handling Assignment"
      ],
      "metadata": {
        "id": "bpbyDWSPrOzz"
      }
    },
    {
      "cell_type": "markdown",
      "source": [
        "#Q1. What is the difference between interpreted and compiled languages?\n",
        "Ans: Interpreted languages are executed line-by-line by an interpreter at runtime, translating source code into machine code on the fly. They are generally more portable because the same source code can be run on any platform with the appropriate interpreter. However, they tend to be slower due to the overhead of runtime translation. Errors are detected at runtime, which means the program may run until it encounters an error. Examples include Python and JavaScript.\n",
        "\n",
        "Compiled languages are translated into machine code by a compiler before execution, creating an executable file. This machine code is specific to the target platform, making compiled languages less portable. However, they tend to be faster because the machine code is executed directly by the hardware without the need for runtime translation. Errors are detected at compile-time, which means the program will not run until all errors are fixed. Examples include C and C++.\n",
        "\n",
        "#Q2. What is exception handling in Python?\n",
        "Ans: Exception handling in Python allows you to manage runtime errors gracefully using try, except, else, and finally blocks. This mechanism helps prevent program crashes and ensures proper resource management. The try block contains code that might raise an exception, the except block handles the exception if it occurs, the else block executes code if no exceptions occur, and the finally block executes code regardless of whether an exception occurs.\n",
        "\n",
        "    SYNTAX:\n",
        "\n",
        "      try:\n",
        "        risky_code()\n",
        "      except SomeException as e:\n",
        "        handle_exception(e)\n",
        "      else:\n",
        "        no_exception_occurred()\n",
        "      finally:\n",
        "        cleanup_actions()\n",
        "\n",
        "#Q3. What is the purpose of the finally block in exception handling?\n",
        "Ans: The finally block ensures that code runs regardless of whether an exception occurs. It is used for cleanup actions like closing files or releasing resources. This guarantees that important cleanup tasks are always performed, even if an error occurs. The finally block is particularly useful for resource management, ensuring that resources are properly released even if an error occurs.\n",
        "\n",
        "\n",
        "    SYNTAX:\n",
        "      \n",
        "      try:\n",
        "        risky_code()\n",
        "      finally:\n",
        "        cleanup_actions()\n",
        "#Q4. What is logging in Python?\n",
        "Ans: Logging is a way to track events that happen when software runs. The logging module provides a flexible framework for emitting log messages from Python programs. It helps in debugging, monitoring, and understanding the flow of a program by recording significant events. Logging can be configured to output messages to different destinations, such as the console or a file, and at different levels of severity, such as DEBUG, INFO, WARNING, ERROR, and CRITICAL.\n",
        "\n",
        "    SYNTAX:\n",
        "\n",
        "      import logging\n",
        "      logging.basicConfig(level=logging.INFO)\n",
        "      logging.info('This is an info message')\n",
        "\n",
        "#Q5. What is the significance of the _ _ del _ _ method in Python?\n",
        "Ans: The _ _ del _ _ method is called when an object is about to be destroyed. It is used to clean up resources like closing files or network connections. This method ensures that any necessary finalization is performed before the object is removed from memory. The _ _ del _ _ method is also known as a destructor and is useful for managing resources that need to be explicitly released when an object is no longer needed.\n",
        "\n",
        "    SYNTAX:\n",
        "      class MyClass:\n",
        "        def _ _del_ _(self):\n",
        "          print('Object is being deleted')\n",
        "\n",
        "#Q6. What is the difference between import and from ... import in Python?   \n",
        "Ans: **import:** Imports the entire module, making all its functions and classes available. You need to use the module name to access its functions and classes.\n",
        "\n",
        "**from import:** Imports specific attributes or functions from a module, allowing direct access without module qualification. This can make the code cleaner and more readable.\n",
        "\n",
        "    SYNTAX:\n",
        "\n",
        "      import math\n",
        "      from math import sqrt\n",
        "\n",
        "#Q7. How can you handle multiple exceptions in Python?\n",
        "Ans: Use multiple except blocks or a single except block with a tuple of exceptions. This allows handling different types of exceptions separately or together, providing more control over error handling. Multiple except blocks can be used to handle different exceptions in different ways, while a single except block with a tuple can handle multiple exceptions in the same way.\n",
        "\n",
        "    SYNTAX:\n",
        "\n",
        "      try:\n",
        "        risky_code()\n",
        "      except (TypeError, ValueError) as e:\n",
        "        handle_exception(e)\n",
        "\n",
        "#Q8. What is the purpose of the with statement when handling files in Python?\n",
        "Ans: The with statement ensures proper acquisition and release of resources. It is commonly used with file operations to ensure files are properly closed, even if an error occurs. This helps prevent resource leaks and ensures that files are always properly managed. The with statement simplifies resource management by automatically handling the setup and teardown of resources.\n",
        "\n",
        "    SYNTAX:\n",
        "    \n",
        "      with open('file.txt', 'r') as file:\n",
        "        content = file.read()\n",
        "\n",
        "#Q9. What is the difference between multithreading and multiprocessing?\n",
        "Ans: **Multithreading:** Multiple threads within the same process, sharing memory space. It is useful for I/O-bound tasks, such as reading from a file or making network requests, where the program spends a lot of time waiting for external resources.\n",
        "\n",
        "**Multiprocessing:** Multiple processes with separate memory space. It is useful for CPU-bound tasks, such as complex calculations, where the program spends a lot of time performing computations. Multiprocessing can take advantage of multiple CPU cores to improve performance.\n",
        "\n",
        "    SYNTAX:\n",
        "      import threading\n",
        "      import multiprocessing\n",
        "\n",
        "#Q10. What are the advantages of using logging in a program?\n",
        "Ans: Logging helps in debugging and monitoring the application by providing a record of runtime events. It allows developers to track the flow of the program and identify issues, making it easier to maintain and troubleshoot the application. Logging can also be used to monitor the application's performance and behavior in production, helping to identify and resolve issues before they become critical.\n",
        "\n",
        "    SYNTAX:\n",
        "      \n",
        "      import logging\n",
        "      logging.basicConfig(level=logging.DEBUG)\n",
        "      logging.debug('Debug message')\n",
        "#Q11. What is memory management in Python?\n",
        "Ans: Memory management in Python involves the allocation and deallocation of memory to ensure efficient use of resources and prevent memory leaks. Python uses automatic memory management, including garbage collection, to handle memory allocation and deallocation. The garbage collector automatically identifies and frees unused objects, helping to manage memory efficiently and prevent memory leaks.\n",
        "\n",
        "    SYNTAX:\n",
        "\n",
        "      import gc\n",
        "      gc.collect()\n",
        "\n",
        "#Q12. What are the basic steps involved in exception handling in Python?\n",
        "Ans: Identify risky code, handle exceptions, execute alternative code, and clean up using try, except, else, and finally blocks. This structured approach ensures that errors are managed gracefully and resources are properly released. The try block contains code that might raise an exception, the except block handles the exception if it occurs, the else block executes code if no exceptions occur, and the finally block executes code regardless of whether an exception occurs.\n",
        "\n",
        "    SYNTAX:\n",
        "      \n",
        "      try:\n",
        "        risky_code()\n",
        "      except Exception as e:\n",
        "        handle_exception(e)\n",
        "      else:\n",
        "        no_exception_occurred()\n",
        "      finally:\n",
        "        cleanup_actions()\n",
        "\n",
        "#Q13. Why is memory management important in Python?\n",
        "Ans: Memory management is crucial to prevent memory leaks and ensure efficient use of resources, which helps maintain application performance. Proper memory management ensures that the application runs smoothly without consuming excessive memory. By managing memory efficiently, developers can prevent memory-related issues, such as crashes and slow performance, and ensure that the application remains stable and responsive.\n",
        "\n",
        "    SYNTAX:\n",
        "\n",
        "      import gc\n",
        "      gc.collect()\n",
        "\n",
        "#Q14.  What is the role of try and except in exception handling?\n",
        "Ans: **try:** Wraps code that might raise an exception.\n",
        "\n",
        "**except:** Handles the exception if it occurs. This structure allows for graceful error handling and ensures that the program can continue running or terminate gracefully. The try block contains code that might raise an exception, and the except block handles the exception if it occurs, allowing the program to recover from errors and continue running.\n",
        "\n",
        "    SYNTAX:\n",
        "\n",
        "      try:\n",
        "        risky_code()\n",
        "      except Exception as e:\n",
        "        handle_exception(e)\n",
        "\n",
        "#Q15. How does Python's garbage collection system work?\n",
        "Ans: Python's garbage collection system automatically deallocates memory by identifying and freeing unused objects using reference counting and cyclic garbage collector. This helps manage memory efficiently and prevents memory leaks. The garbage collector tracks the number of references to each object and frees objects that are no longer referenced. It also detects and collects cyclic references, which are groups of objects that reference each other but are not reachable from the rest of the program.\n",
        "\n",
        "    SYNTAX:\n",
        "      \n",
        "      import gc\n",
        "      gc.collect()\n",
        "\n",
        "#Q16. What is the purpose of the else block in exception handling?\n",
        "Ans: The else block executes code if no exceptions occur in the try block, allowing for clean separation of normal and exceptional code paths. This helps in organizing code and making it more readable and maintainable. The else block is useful for code that should only run if no exceptions occur, providing a clear distinction between normal and exceptional code paths.\n",
        "\n",
        "    SYNTAX:\n",
        "\n",
        "      try:\n",
        "          risky_code()\n",
        "      except Exception as e:\n",
        "          handle_exception(e)\n",
        "      else:\n",
        "          no_exception_occurred()   \n",
        "\n",
        "#Q17. What are the common logging levels in Python?\n",
        "Ans: The common logging levels are DEBUG, INFO, WARNING, ERROR, and CRITICAL, each indicating the severity of the log messages. These levels help categorize log messages and control the output based on the importance of the events. DEBUG is used for detailed diagnostic information, INFO for general information, WARNING for potential issues, ERROR for errors that prevent the program from continuing, and CRITICAL for severe errors that may cause the program to terminate.\n",
        "    \n",
        "    SYNTAX:\n",
        "      \n",
        "      import logging\n",
        "      logging.basicConfig(level=logging.DEBUG)\n",
        "      logging.debug('Debug message')\n",
        "\n",
        "#Q18. What is the difference between os.fork() and multiprocessing in Python?\n",
        "Ans: **os.fork():** Creates a new process by duplicating the current process. It is available on Unix-like systems and is useful for creating child processes that run concurrently with the parent process. However, it can be complex to manage and is not available on all platforms.\n",
        "\n",
        "**multiprocessing:** Module to create processes with separate memory space, providing a higher-level interface for process creation and management. The multiprocessing module is platform-independent and provides a simpler and more flexible way to create and manage processes, making it easier to write cross-platform code.\n",
        "    \n",
        "    SYNTAX:\n",
        "\n",
        "      import os\n",
        "      pid = os.fork()\n",
        "\n",
        "#Q19. What is the importance of closing a file in Python?\n",
        "Ans: Closing a file ensures that data is written and resources are released, preventing data corruption and resource leaks. It is a crucial step in file handling to maintain data integrity and system stability. When a file is closed, any buffered data is written to the file, and the file descriptor is released, making it available for other processes. Failing to close a file can lead to data loss, resource exhaustion, and other issues.\n",
        "\n",
        "    SYNTAX:\n",
        "\n",
        "      file = open('file.txt', 'r')\n",
        "      file.close()\n",
        "\n",
        "#Q20. What is the difference between file.read() and file.readline() in Python?\n",
        "Ans: **file.read():** Reads the entire file into a single string. This method is useful for reading small files that can be easily loaded into memory.\n",
        "\n",
        "**file.readline():** Reads one line at a time, making it suitable for processing large files line-by-line. This method is useful for reading large files that cannot be loaded into memory all at once, allowing the program to process each line individually.\n",
        "\n",
        "    SYNTAX:\n",
        "      \n",
        "      with open('file.txt', 'r') as file:\n",
        "          content = file.read()\n",
        "          line = file.readline()\n",
        "\n",
        "#Q21. What is the logging module in Python used for?\n",
        "Ans: The logging module provides a flexible framework for emitting log messages from Python programs, aiding in debugging and monitoring. It allows developers to track the flow of the program and identify issues. The logging module supports different log levels, output formats, and destinations, making it a powerful tool for managing log messages in Python applications.\n",
        "\n",
        "    SYNTAX:\n",
        "      \n",
        "      import logging\n",
        "      logging.basicConfig(level=logging.INFO)\n",
        "      logging.info('This is an info message')\n",
        "\n",
        "#Q22. What is the os module in Python used for in file handling?\n",
        "Ans: The os module provides functions to interact with the operating system, such as file operations, directory management, and process handling. It is essential for performing system-level tasks in Python. The os module allows developers to perform tasks like creating, deleting, and renaming files and directories, as well as managing file permissions and attributes.\n",
        "\n",
        "    SYNTAX:\n",
        "      \n",
        "      import os\n",
        "      os.remove('file.txt')\n",
        "    \n",
        "#Q23. What are the challenges associated with memory management in Python?\n",
        "Ans: Challenges include handling memory leaks, fragmentation, and ensuring efficient memory use to maintain application performance. Proper memory management is crucial for the stability and efficiency of applications. Memory leaks occur when objects are not properly deallocated, leading to increased memory usage over time. Fragmentation occurs when memory is allocated and deallocated in a way that leaves gaps, reducing the efficiency of memory usage.\n",
        "\n",
        "    SYNTAX:\n",
        "      \n",
        "      import gc\n",
        "      gc.collect()\n",
        "\n",
        "#Q24. How do you raise an exception manually in Python?\n",
        "Ans: Use the raise statement with an exception to manually raise an error. This allows for custom error handling and can be used to enforce certain conditions in the code. Raising exceptions manually can help ensure that the program behaves as expected and can provide meaningful error messages to users and developers.\n",
        "\n",
        "    SYNTAX:\n",
        "      \n",
        "      raise ValueError(\"An error occurred\")\n",
        "\n",
        "#Q25. Why is it important to use multithreading in certain applications?\n",
        "Ans: Multithreading improves performance by allowing concurrent execution of tasks, making applications more responsive and efficient. It is particularly useful for I/O-bound tasks where waiting for external resources can be parallelized. By using multiple threads, an application can perform multiple tasks simultaneously, improving overall performance and responsiveness.\n",
        "    \n",
        "    \n",
        "    SYNTAX:\n",
        "\n",
        "        import threading\n",
        "        def task():\n",
        "            print('Task executed')\n",
        "        thread = threading.Thread(target=task)\n",
        "        thread.start()\n",
        "\n",
        "\n"
      ],
      "metadata": {
        "id": "diTk-8zNro3y"
      }
    },
    {
      "cell_type": "markdown",
      "source": [
        "#PRACTICAL QUESTION"
      ],
      "metadata": {
        "id": "s6g041DLHXwG"
      }
    },
    {
      "cell_type": "code",
      "source": [
        "#Practical Question\n",
        "'''\n",
        "Q1. How can you open a file for writing in Python and write a string to it?\n",
        "\n",
        "Ans\n",
        "\n",
        "'''\n",
        "\n",
        "with open('example.txt', 'w') as file:\n",
        "    file.write('Hello, world!')\n",
        "\n"
      ],
      "metadata": {
        "id": "koXzeY03HQ74"
      },
      "execution_count": 1,
      "outputs": []
    },
    {
      "cell_type": "code",
      "source": [
        "# Practical question\n",
        "'''\n",
        "Q2. Write a Python program to read the contents of a file and print each line.\n",
        "\n",
        "Ans\n",
        "\n",
        "'''\n",
        "# i will be using `myfile.txt` for the content so that i have to not call or write again and again\n",
        "with open('example.txt', 'r') as file:\n",
        "    for line in file:\n",
        "        print(line, end='')\n"
      ],
      "metadata": {
        "colab": {
          "base_uri": "https://localhost:8080/"
        },
        "id": "AOWmcOyOHxCG",
        "outputId": "0aa99ccd-8a19-4d8e-870e-29832d87deb5"
      },
      "execution_count": 3,
      "outputs": [
        {
          "output_type": "stream",
          "name": "stdout",
          "text": [
            "Hello, world!"
          ]
        }
      ]
    },
    {
      "cell_type": "code",
      "source": [
        "# Practical question\n",
        "'''\n",
        "Q3. How would you handle a case where the file doesn't exist while trying to open it for reading?\n",
        "\n",
        "\n",
        "Ans\n",
        "\n",
        "'''\n",
        "file_path = 'answer3.txt'\n",
        "\n",
        "try:\n",
        "    with open(file_path, 'r') as file:\n",
        "        for line in file:\n",
        "            print(line, end='')\n",
        "except FileNotFoundError:\n",
        "    print(f\"Opps!!! The file '{file_path}' does not exist.\")"
      ],
      "metadata": {
        "colab": {
          "base_uri": "https://localhost:8080/"
        },
        "id": "yRX27FA1H8T1",
        "outputId": "48a5411e-1e42-422b-e559-8b0f4bf5bad1"
      },
      "execution_count": 4,
      "outputs": [
        {
          "output_type": "stream",
          "name": "stdout",
          "text": [
            "Opps!!! The file 'answer3.txt' does not exist.\n"
          ]
        }
      ]
    },
    {
      "cell_type": "code",
      "source": [
        "# Practical question\n",
        "'''\n",
        "Q4. Write a Python script that reads from one file and writes its content to another file.\n",
        "\n",
        "\n",
        "Ans\n",
        "\n",
        "'''\n",
        "\n",
        "source_file_path = 'example.txt'\n",
        "destination_file_path = 'destination.txt'\n",
        "\n",
        "try:\n",
        "    with open(source_file_path, 'r') as source_file:\n",
        "        content = source_file.read()\n",
        "\n",
        "    with open(destination_file_path, 'w') as destination_file:\n",
        "        destination_file.write(content)\n",
        "\n",
        "    print(f\"Content copied from '{source_file_path}' to '{destination_file_path}' successfully.\")\n",
        "except FileNotFoundError:\n",
        "    print(f\"Error: The file '{source_file_path}' does not exist.\")\n",
        "except Exception as e:\n",
        "    print(f\"An error occurred: {e}\")"
      ],
      "metadata": {
        "colab": {
          "base_uri": "https://localhost:8080/"
        },
        "id": "W4QG3GNxILmH",
        "outputId": "a48c036f-1b8d-4e1b-983d-69ca6b2160e7"
      },
      "execution_count": 6,
      "outputs": [
        {
          "output_type": "stream",
          "name": "stdout",
          "text": [
            "Content copied from 'example.txt' to 'destination.txt' successfully.\n"
          ]
        }
      ]
    },
    {
      "cell_type": "code",
      "source": [
        "# Practical question\n",
        "'''\n",
        "Q5. How would you catch and handle division by zero error in Python?\n",
        "\n",
        "\n",
        "Ans\n",
        "\n",
        "'''\n",
        "try:\n",
        "    numerator = 50\n",
        "    denominator = 0\n",
        "    result = numerator / denominator\n",
        "    print(f\"The result is {result}\")\n",
        "except ZeroDivisionError:\n",
        "    print(\"Error: Sorry!! Division by zero is not allowed.\")"
      ],
      "metadata": {
        "colab": {
          "base_uri": "https://localhost:8080/"
        },
        "id": "FAiVcWrCISEc",
        "outputId": "e03d6c7d-a3c4-4fb2-f22d-a84456a40ae8"
      },
      "execution_count": 7,
      "outputs": [
        {
          "output_type": "stream",
          "name": "stdout",
          "text": [
            "Error: Sorry!! Division by zero is not allowed.\n"
          ]
        }
      ]
    },
    {
      "cell_type": "code",
      "source": [
        "# Practical question\n",
        "'''\n",
        "Q6. Write a Python program that logs an error message to a log file when a division by zero exception occurs.\n",
        "\n",
        "Ans\n",
        "\n",
        "'''\n",
        "import logging\n",
        "\n",
        "# Configure logging\n",
        "logging.basicConfig(filename='error.log', level=logging.ERROR)\n",
        "\n",
        "def divide(numerator, denominator):\n",
        "    try:\n",
        "        result = numerator / denominator\n",
        "        return result\n",
        "    except ZeroDivisionError:\n",
        "        logging.error(\"Division by zero is not allowed.\")\n",
        "        return None\n",
        "divide(40,0)"
      ],
      "metadata": {
        "colab": {
          "base_uri": "https://localhost:8080/"
        },
        "id": "_AO_ikN2IfAi",
        "outputId": "c246161e-18a7-401f-b39c-3a91802a5b84"
      },
      "execution_count": 8,
      "outputs": [
        {
          "output_type": "stream",
          "name": "stderr",
          "text": [
            "ERROR:root:Division by zero is not allowed.\n"
          ]
        }
      ]
    },
    {
      "cell_type": "code",
      "source": [
        "# Practical question\n",
        "'''\n",
        "Q7. How do you log information at different levels (INFO, ERROR, WARNING) in Python using the logging module?\n",
        "\n",
        "\n",
        "Ans\n",
        "\n",
        "'''\n",
        "import logging\n",
        "\n",
        "# Configure logging\n",
        "logging.basicConfig(filename='app.log',level=logging.DEBUG, format='%(asctime)s - %(levelname)s - %(message)s')\n",
        "\n",
        "logging.info(\"This is an informational message to indicate normal operation.\")\n",
        "logging.warning(\"This is a warning message about potential issues.\")\n",
        "logging.error(\"This is an error message for failed operations.\")"
      ],
      "metadata": {
        "colab": {
          "base_uri": "https://localhost:8080/"
        },
        "id": "xjBZ7_uuIjjS",
        "outputId": "f901d089-a77e-46fa-d2f9-4fe5b78bf777"
      },
      "execution_count": 9,
      "outputs": [
        {
          "output_type": "stream",
          "name": "stderr",
          "text": [
            "WARNING:root:This is a warning message about potential issues.\n",
            "ERROR:root:This is an error message for failed operations.\n"
          ]
        }
      ]
    },
    {
      "cell_type": "code",
      "source": [
        "# Practical question\n",
        "'''\n",
        "Q8. Write a program to handle a file opening error using exception handling.\n",
        "\n",
        "\n",
        "Ans\n",
        "\n",
        "'''\n",
        "def file_handling_example(filename):\n",
        "    try:\n",
        "        with open(filename, 'r') as file:\n",
        "            contents = file.read()\n",
        "            print(contents)\n",
        "    except FileNotFoundError:\n",
        "        print(f\"Error: File '{filename}' not found.\")\n",
        "    except Exception as e:\n",
        "        print(f\"An unexpected error occurred: {e}\")\n",
        "\n",
        "file_handling_example('myfile.txt') #in this the file is existing\n",
        "file_handling_example('mfile.txt') #in this the file is not existing"
      ],
      "metadata": {
        "colab": {
          "base_uri": "https://localhost:8080/"
        },
        "id": "LAey10uiIrLv",
        "outputId": "2b94b4a3-ffbc-4d76-dc3d-78071c52cfc9"
      },
      "execution_count": 10,
      "outputs": [
        {
          "output_type": "stream",
          "name": "stdout",
          "text": [
            "Error: File 'myfile.txt' not found.\n",
            "Error: File 'mfile.txt' not found.\n"
          ]
        }
      ]
    },
    {
      "cell_type": "code",
      "source": [
        "# Practical question\n",
        "'''\n",
        "Q9. How can you read a file line by line and store its content in a list in Python?\n",
        "\n",
        "Ans\n",
        "\n",
        "'''\n",
        "file_path = 'example.txt'\n",
        "\n",
        "lines = []\n",
        "with open(file_path, 'r') as file:\n",
        "    for line in file:\n",
        "        lines.append(line.strip())\n",
        "\n",
        "print(lines)\n"
      ],
      "metadata": {
        "colab": {
          "base_uri": "https://localhost:8080/"
        },
        "id": "cjf0gMmVIvXc",
        "outputId": "96fb989f-4fec-4ddb-e255-aa686232e163"
      },
      "execution_count": 12,
      "outputs": [
        {
          "output_type": "stream",
          "name": "stdout",
          "text": [
            "['Hello, world!']\n"
          ]
        }
      ]
    },
    {
      "cell_type": "code",
      "source": [
        "# Practical question\n",
        "'''\n",
        "Q10. How can you append data to an existing file in Python?\n",
        "\n",
        "Ans\n",
        "'''\n",
        "with open('myfile.txt', 'a') as file:\n",
        "    file.write(\"This is appended text.\\n\")\n",
        "    file.write(\"This is question number 10.\\n\")"
      ],
      "metadata": {
        "id": "b6PEo0LmIysE"
      },
      "execution_count": 13,
      "outputs": []
    },
    {
      "cell_type": "code",
      "source": [
        "# Practical question\n",
        "'''\n",
        "Q11. Write a Python program that uses a try-except block to handle an error when attempting to access a dictionary key that doesn't exist.\n",
        "\n",
        "\n",
        "Ans\n",
        "\n",
        "'''\n",
        "data = {\"name\": \"AVINESH\", \"age\": 21, \"city\": \"LUCKNOW\"}\n",
        "\n",
        "def val(dictionary, key):\n",
        "    try:\n",
        "        value = dictionary[key]\n",
        "        return value\n",
        "    except KeyError:\n",
        "        print(f\"Error: The key '{key}' does not exist in the dictionary.\")\n",
        "        return None\n",
        "\n",
        "key_to_look = \"country\"\n",
        "result = val(data, key_to_look)\n",
        "\n",
        "#this line of code i'm writing in the where key is existing in the dictionary\n",
        "if result is not None:\n",
        "    print(f\"The value for key '{key_to_look}' is: {result}\")\n",
        "else:\n",
        "    print(f\"Key '{key_to_look}' was not found.\")\n"
      ],
      "metadata": {
        "colab": {
          "base_uri": "https://localhost:8080/"
        },
        "id": "MhjKJ7lBI66y",
        "outputId": "12f8f700-b636-489d-c0a7-a589a890ea55"
      },
      "execution_count": 14,
      "outputs": [
        {
          "output_type": "stream",
          "name": "stdout",
          "text": [
            "Error: The key 'country' does not exist in the dictionary.\n",
            "Key 'country' was not found.\n"
          ]
        }
      ]
    },
    {
      "cell_type": "code",
      "source": [
        "# Practical question\n",
        "'''\n",
        "Q12. Write a program that demonstrates using multiple except blocks to handle different types of exceptions.\n",
        "\n",
        "Ans\n",
        "\n",
        "'''\n",
        "def handle_exceptions():\n",
        "    try:\n",
        "        num = int(input(\"Enter a number: \"))\n",
        "        result = 10 / num\n",
        "        print(f\"The result of 10 divided by {num} is {result}\")\n",
        "\n",
        "        my_dict = {\"a\": 21, \"b\": 50}\n",
        "        key = input(\"Enter a key to access the dictionary: \")\n",
        "        value = my_dict[key]\n",
        "        print(f\"The value for the key '{key}' is {value}\")\n",
        "\n",
        "    except ZeroDivisionError:\n",
        "        print(\"Error: Division by zero is not allowed.\")\n",
        "    except ValueError:\n",
        "        print(\"Error: Invalid input. Please enter a valid number.\")\n",
        "    except KeyError:\n",
        "        print(\"Error: The specified key does not exist in the dictionary.\")\n",
        "    except Exception as e:\n",
        "        print(f\"An unexpected error occurred: {e}\")\n",
        "\n",
        "handle_exceptions()"
      ],
      "metadata": {
        "colab": {
          "base_uri": "https://localhost:8080/"
        },
        "id": "S3khCPtXI_OC",
        "outputId": "3cc79c72-504e-4c69-f465-7240e31f48bc"
      },
      "execution_count": 15,
      "outputs": [
        {
          "output_type": "stream",
          "name": "stdout",
          "text": [
            "Enter a number: 20\n",
            "The result of 10 divided by 20 is 0.5\n",
            "Enter a key to access the dictionary: age\n",
            "Error: The specified key does not exist in the dictionary.\n"
          ]
        }
      ]
    },
    {
      "cell_type": "code",
      "source": [
        "# Practical question\n",
        "'''\n",
        "Q13. How would you check if a file exists before attempting to read it in Python?\n",
        "\n",
        "\n",
        "Ans\n",
        "\n",
        "'''\n",
        "import os\n",
        "\n",
        "file_path = \"example.txt\"\n",
        "\n",
        "if os.path.exists(file_path):\n",
        "    with open(file_path, 'r') as file:\n",
        "        content = file.read()\n",
        "        print(\"File content:\")\n",
        "        print(content)\n",
        "else:\n",
        "    print(f\"The file '{file_path}' does not exist.\")"
      ],
      "metadata": {
        "colab": {
          "base_uri": "https://localhost:8080/"
        },
        "id": "-VyuR8EjJJ41",
        "outputId": "4d91e2bb-4545-47d3-900b-0faf28bebc92"
      },
      "execution_count": 17,
      "outputs": [
        {
          "output_type": "stream",
          "name": "stdout",
          "text": [
            "File content:\n",
            "Hello, world!\n"
          ]
        }
      ]
    },
    {
      "cell_type": "code",
      "source": [
        "# Practical question\n",
        "'''\n",
        "Q14. Write a program that uses the logging module to log both informational and error messages.\n",
        "\n",
        "Ans\n",
        "\n",
        "'''\n",
        "import logging\n",
        "logging.basicConfig(filename='my_app.log', level=logging.DEBUG,format='%(asctime)s - %(levelname)s - %(message)s',handlers=[logging.StreamHandler()])\n",
        "\n",
        "def divide_numbers(numerator, denominator):\n",
        "    try:\n",
        "        logging.info(\"Attempting to divide %s by %s.\", numerator, denominator)\n",
        "        result = numerator / denominator\n",
        "        logging.info(\"Division successful. Result: %s\", result)\n",
        "        return result\n",
        "    except ZeroDivisionError:\n",
        "        logging.error(\"Error: Division by zero is not allowed. Numerator: %s, Denominator: %s\", numerator, denominator)\n",
        "        return None\n",
        "    except Exception as e:\n",
        "        logging.error(\"An unexpected error occurred: %s\", e)\n",
        "        return None\n",
        "\n",
        "\n",
        "logging.info(\"Program started.\")\n",
        "divide_numbers(50, 2)  # Successful division\n",
        "divide_numbers(40, 0)  # Division by zero error\n",
        "divide_numbers(11, 'a')  # Invalid input\n",
        "logging.info(\"Program ended.\")"
      ],
      "metadata": {
        "colab": {
          "base_uri": "https://localhost:8080/"
        },
        "id": "8aRHIgBmKAdQ",
        "outputId": "6ad627fd-68cf-450b-eb49-fa4f6902227c"
      },
      "execution_count": 18,
      "outputs": [
        {
          "output_type": "stream",
          "name": "stderr",
          "text": [
            "ERROR:root:Error: Division by zero is not allowed. Numerator: 40, Denominator: 0\n",
            "ERROR:root:An unexpected error occurred: unsupported operand type(s) for /: 'int' and 'str'\n"
          ]
        }
      ]
    },
    {
      "cell_type": "code",
      "source": [
        "# Practical question\n",
        "'''\n",
        "Q15. Write a Python program that prints the content of a file and handles the case when the file is empty.\n",
        "\n",
        "Ans\n",
        "\n",
        "'''\n",
        "\n",
        "#creating empty file\n",
        "with open('example.txt', 'w') as file:\n",
        "  file.write(\"\")\n",
        "  file.close()\n",
        "def print_file_content(filename):\n",
        "    try:\n",
        "        with open(filename, 'r') as file:\n",
        "            content = file.read()\n",
        "            if not content:\n",
        "                print(\"The file is empty.\")\n",
        "            else:\n",
        "                print(content)\n",
        "    except FileNotFoundError:\n",
        "        print(f\"Error: File '{filename}' not found.\")\n",
        "\n",
        "# Example usage\n",
        "print_file_content('example.txt')"
      ],
      "metadata": {
        "colab": {
          "base_uri": "https://localhost:8080/"
        },
        "id": "TAJYg4gdKMH-",
        "outputId": "fc601b80-bb5a-4807-f310-558f894bd7f7"
      },
      "execution_count": 19,
      "outputs": [
        {
          "output_type": "stream",
          "name": "stdout",
          "text": [
            "The file is empty.\n"
          ]
        }
      ]
    },
    {
      "cell_type": "code",
      "source": [
        "# Practical question\n",
        "'''\n",
        "Q16. Demonstrate how to use memory profiling to check the memory usage of a small program.\n",
        "\n",
        "Ans\n",
        "\n",
        "'''\n",
        "!pip install memory-profiler\n",
        "from memory_profiler import profile\n",
        "\n",
        "@profile\n",
        "def simple_function():\n",
        "    a = [i for i in range(100000)]  # Create a large list\n",
        "    b = sum(a)  # Calculate the sum of the list\n",
        "    return b\n",
        "\n",
        "if __name__ == \"__main__\":\n",
        "    simple_function()"
      ],
      "metadata": {
        "colab": {
          "base_uri": "https://localhost:8080/"
        },
        "id": "sSkY7lMEKdTn",
        "outputId": "f6c29727-c0c7-4dc3-ea27-1b6ea666b879"
      },
      "execution_count": 21,
      "outputs": [
        {
          "output_type": "stream",
          "name": "stdout",
          "text": [
            "Requirement already satisfied: memory-profiler in /usr/local/lib/python3.11/dist-packages (0.61.0)\n",
            "Requirement already satisfied: psutil in /usr/local/lib/python3.11/dist-packages (from memory-profiler) (5.9.5)\n",
            "ERROR: Could not find file /tmp/ipython-input-21-3490616928.py\n"
          ]
        }
      ]
    },
    {
      "cell_type": "code",
      "source": [
        "# Practical question\n",
        "'''\n",
        "Q17. Write a Python program to create and write a list of numbers to a file, one number per line.\n",
        "\n",
        "Ans\n",
        "\n",
        "'''\n",
        "def write_numbers_to_file(numbers, filename):\n",
        "    try:\n",
        "        with open(filename, 'w') as file:\n",
        "            for number in numbers:\n",
        "                file.write(str(number) + '\\n')\n",
        "        print(f\"Numbers successfully written to '{filename}'.\")\n",
        "    except Exception as e:\n",
        "        print(f\"An error occurred: {e}\")\n",
        "\n",
        "numbers = [1, 2, 3, 4, 5]\n",
        "filename = 'numbers.txt'\n",
        "write_numbers_to_file(numbers, filename)"
      ],
      "metadata": {
        "colab": {
          "base_uri": "https://localhost:8080/"
        },
        "id": "_x37ErDtKoFG",
        "outputId": "6d0dae8a-e413-4327-ed1b-23c2691d825a"
      },
      "execution_count": 22,
      "outputs": [
        {
          "output_type": "stream",
          "name": "stdout",
          "text": [
            "Numbers successfully written to 'numbers.txt'.\n"
          ]
        }
      ]
    },
    {
      "cell_type": "code",
      "source": [
        "# Practical question\n",
        "'''\n",
        "Q18. How would you implement a basic logging setup that logs to a file with rotation after 1MB?\n",
        "\n",
        "Ans\n",
        "\n",
        "'''\n",
        "import logging\n",
        "from logging.handlers import RotatingFileHandler\n",
        "\n",
        "log_file = 'app.log'\n",
        "log_formatter = logging.Formatter('%(asctime)s - %(levelname)s - %(message)s')\n",
        "\n",
        "handler = RotatingFileHandler(log_file, maxBytes=1*1024*1024, backupCount=5)\n",
        "handler.setFormatter(log_formatter)\n",
        "\n",
        "logger = logging.getLogger()\n",
        "logger.setLevel(logging.DEBUG)\n",
        "logger.addHandler(handler)\n",
        "\n",
        "def main():\n",
        "    logger.info(\"This is an informational message.\")\n",
        "    logger.debug(\"This is a debug message.\")\n",
        "    logger.warning(\"This is a warning message.\")\n",
        "    logger.error(\"This is an error message.\")\n",
        "    logger.critical(\"This is a critical message.\")\n",
        "\n",
        "if __name__ == \"__main__\":\n",
        "    main()\n",
        "    print(\"Logging setup complete. Check the log file for messages.\")"
      ],
      "metadata": {
        "colab": {
          "base_uri": "https://localhost:8080/"
        },
        "id": "Iow5LqIUK8zw",
        "outputId": "4f833cb2-7e9a-4004-f6a4-0e9f57372d1c"
      },
      "execution_count": 23,
      "outputs": [
        {
          "output_type": "stream",
          "name": "stderr",
          "text": [
            "INFO:root:This is an informational message.\n",
            "DEBUG:root:This is a debug message.\n",
            "WARNING:root:This is a warning message.\n",
            "ERROR:root:This is an error message.\n",
            "CRITICAL:root:This is a critical message.\n"
          ]
        },
        {
          "output_type": "stream",
          "name": "stdout",
          "text": [
            "Logging setup complete. Check the log file for messages.\n"
          ]
        }
      ]
    },
    {
      "cell_type": "code",
      "source": [
        "# Practical question\n",
        "'''\n",
        "Q19. Write a program that handles both IndexError and KeyError using a try-except block.\n",
        "\n",
        "Ans\n",
        "\n",
        "'''\n",
        "my_list = [1, 2, 3]\n",
        "my_dict = {\"a\": 1, \"b\": 2}\n",
        "\n",
        "try:\n",
        "    print(my_list[5])\n",
        "except IndexError:\n",
        "    print(\"Error: List index out of range.\")\n",
        "\n",
        "try:\n",
        "    value = my_dict[\"c\"]\n",
        "    print(value)\n",
        "except KeyError:\n",
        "    print(\"Error: The specified key does not exist in the dictionary.\")"
      ],
      "metadata": {
        "colab": {
          "base_uri": "https://localhost:8080/"
        },
        "id": "OV0S26W8LG_3",
        "outputId": "bf12f6bb-8006-48a1-a0de-8e969852fb3b"
      },
      "execution_count": 24,
      "outputs": [
        {
          "output_type": "stream",
          "name": "stdout",
          "text": [
            "Error: List index out of range.\n",
            "Error: The specified key does not exist in the dictionary.\n"
          ]
        }
      ]
    },
    {
      "cell_type": "code",
      "source": [
        "# Practical question\n",
        "'''\n",
        "Q20. How would you open a file and read its contents using a context manager in Python?\n",
        "\n",
        "'''\n",
        "'''\n",
        "Answer:-20\n",
        "'''\n",
        "file_path = \"destination.txt\"\n",
        "\n",
        "with open(file_path, 'r') as file:\n",
        "    content = file.read()\n",
        "\n",
        "print(content)"
      ],
      "metadata": {
        "colab": {
          "base_uri": "https://localhost:8080/"
        },
        "id": "GeVw7Hi-LQhi",
        "outputId": "4595b61c-e5fa-4b57-a6bb-e4c85274d692"
      },
      "execution_count": 25,
      "outputs": [
        {
          "output_type": "stream",
          "name": "stdout",
          "text": [
            "Hello, world!\n"
          ]
        }
      ]
    },
    {
      "cell_type": "code",
      "source": [
        "\n",
        "# Practical question\n",
        "'''\n",
        "Q21. Write a Python program that reads a file and prints the number of occurrences of a specific word.\n",
        "\n",
        "Ans\n",
        "\n",
        "'''\n",
        "def count_word_occurrences(filename, word):\n",
        "    try:\n",
        "        with open(filename, 'r') as file:\n",
        "            content = file.read()\n",
        "            occurrences = content.lower().count(word.lower())  # Case-insensitive count\n",
        "            return occurrences\n",
        "    except FileNotFoundError:\n",
        "        print(f\"Error: File '{filename}' not found.\")\n",
        "        return -1\n",
        "\n",
        "# Example usage:\n",
        "filename = \"destination.txt\"\n",
        "word_to_count = \"l\"\n",
        "count = count_word_occurrences(filename, word_to_count)\n",
        "\n",
        "if count != -1:\n",
        "    print(f\"The word '{word_to_count}' appears {count} times in the file.\")"
      ],
      "metadata": {
        "colab": {
          "base_uri": "https://localhost:8080/"
        },
        "id": "dJHKQKI6LVu2",
        "outputId": "9af510d7-bdbe-46f0-90a0-826f73b5a857"
      },
      "execution_count": 28,
      "outputs": [
        {
          "output_type": "stream",
          "name": "stdout",
          "text": [
            "The word 'l' appears 3 times in the file.\n"
          ]
        }
      ]
    },
    {
      "cell_type": "code",
      "source": [
        "# Practical question\n",
        "'''\n",
        "Q22. How can you check if a file is empty before attempting to read its contents?\n",
        "\n",
        "'''\n",
        "'''\n",
        "Answer:-22\n",
        "'''\n",
        "import os\n",
        "\n",
        "def print_file_content(filename):\n",
        "    if not os.path.exists(filename):\n",
        "        print(f\"Error: File '{filename}' not found.\")\n",
        "        return\n",
        "\n",
        "    try:\n",
        "        with open(filename, 'r') as file:\n",
        "            content = file.read()\n",
        "            if not content:\n",
        "                print(\"The file is empty.\")\n",
        "            else:\n",
        "                print(content)\n",
        "    except Exception as e:\n",
        "        print(f\"An error occurred while reading the file: {e}\")\n",
        "\n",
        "print_file_content('numbers.txt')"
      ],
      "metadata": {
        "colab": {
          "base_uri": "https://localhost:8080/"
        },
        "id": "COXQKKDCLjdy",
        "outputId": "8047e735-6c81-42cc-f567-56d41b300a6b"
      },
      "execution_count": 29,
      "outputs": [
        {
          "output_type": "stream",
          "name": "stdout",
          "text": [
            "1\n",
            "2\n",
            "3\n",
            "4\n",
            "5\n",
            "\n"
          ]
        }
      ]
    },
    {
      "cell_type": "code",
      "source": [
        "# Practical question\n",
        "'''\n",
        "Q23. Write a Python program that writes to a log file when an error occurs during file handling.\n",
        "\n",
        "'''\n",
        "'''\n",
        "Answer:-23\n",
        "'''\n",
        "import logging\n",
        "logging.basicConfig(filename='file_handling.log', level=logging.ERROR,\n",
        "                    format='%(asctime)s - %(levelname)s - %(message)s')\n",
        "\n",
        "def process_file(filename):\n",
        "    try:\n",
        "        with open(filename, 'r') as file:\n",
        "            contents = file.read()\n",
        "            print(contents)\n",
        "    except FileNotFoundError:\n",
        "        logging.error(f\"Error: File '{filename}' not found.\")\n",
        "    except Exception as e:\n",
        "        logging.error(f\"An unexpected error occurred while processing '{filename}': {e}\")\n",
        "\n",
        "process_file('destinatio.txt')"
      ],
      "metadata": {
        "colab": {
          "base_uri": "https://localhost:8080/"
        },
        "id": "QrAv6hOeL11I",
        "outputId": "3ec01649-9cff-4345-af70-ef7a9dc2b134"
      },
      "execution_count": 30,
      "outputs": [
        {
          "output_type": "stream",
          "name": "stderr",
          "text": [
            "ERROR:root:Error: File 'destinatio.txt' not found.\n"
          ]
        }
      ]
    }
  ]
}